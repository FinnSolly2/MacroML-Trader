{
 "cells": [
  {
   "cell_type": "code",
   "execution_count": 1,
   "id": "0d2af06a-90c0-4ef7-b44b-36bba4828cf6",
   "metadata": {},
   "outputs": [],
   "source": [
    "import investpy as ip\n",
    "import pandas as pd"
   ]
  },
  {
   "cell_type": "code",
   "execution_count": 75,
   "id": "5f48ceb7-c97c-40f5-9d25-13a6dc6cc974",
   "metadata": {},
   "outputs": [],
   "source": [
    "def get_interest_rates(start_date, end_date):\n",
    "\n",
    "    data = ip.economic_calendar(countries=[\"united states\"], categories=[\"central_banks\"], from_date=start_date, to_date=end_date)\n",
    "    data = data[data[\"event\"].str.contains(\"Interest Rate\")]\n",
    "    data[\"date\"] = pd.to_datetime(data[\"date\"])\n",
    "    return data"
   ]
  },
  {
   "cell_type": "code",
   "execution_count": 11,
   "id": "cd3d125b-acba-40ba-b395-43714428b73b",
   "metadata": {},
   "outputs": [],
   "source": [
    "def get_nfp(start_date, end_date):\n",
    "\n",
    "    data = ip.economic_calendar(countries=[\"united states\"], categories=[\"employment\"], from_date=start_date, to_date=end_date)\n",
    "    data = data[data[\"event\"].str.contains(\"Nonfarm\")]\n",
    "    data = data[~data[\"event\"].str.contains(\"Private|ADP\")]\n",
    "    data[\"date\"] = pd.to_datetime(data[\"date\"])\n",
    "    return data"
   ]
  },
  {
   "cell_type": "code",
   "execution_count": 31,
   "id": "6d212220-5971-473b-baa7-983e11f2babb",
   "metadata": {},
   "outputs": [],
   "source": [
    "def get_inflation(start_date, end_date):\n",
    "\n",
    "    data = ip.economic_calendar(countries=[\"united states\"], categories=[\"inflation\"], from_date=start_date, to_date=end_date)\n",
    "    data = data[data[\"event\"].str.contains(\"CPI (YoY)\", regex=False)]\n",
    "    data = data[~data[\"event\"].str.contains(\"Core\")]\n",
    "    data[\"date\"] = pd.to_datetime(data[\"date\"])\n",
    "    return data"
   ]
  },
  {
   "cell_type": "code",
   "execution_count": 43,
   "id": "873b4403-153b-41bc-ad7e-911784b6d955",
   "metadata": {},
   "outputs": [],
   "source": [
    "def get_pmi(start_date, end_date):\n",
    "        \n",
    "    data = ip.economic_calendar(countries=[\"united states\"], categories=[\"economic_activity\"], from_date=start_date, to_date=end_date)\n",
    "    data = data[data[\"event\"].str.contains(\"Manufacturing PMI|Services PMI\")]\n",
    "    data = data[~data[\"event\"].str.contains(\"ISM\")]\n",
    "    data['month'] = pd.to_datetime(data['date'], format='%d/%m/%Y').dt.to_period('M')\n",
    "    data[\"date\"] = pd.to_datetime(data[\"date\"])\n",
    "    return data.groupby('month').head(2).drop('month', axis=1)"
   ]
  },
  {
   "cell_type": "code",
   "execution_count": 50,
   "id": "588437b9-6516-4248-99df-3a5786c333b0",
   "metadata": {},
   "outputs": [],
   "source": [
    "def get_unemployment(start_date, end_date):\n",
    "    \n",
    "    data = ip.economic_calendar(countries=[\"united states\"], categories=[\"employment\"], from_date=start_date, to_date=end_date)\n",
    "    data = data[data[\"event\"].str.contains(\"Unemployment\")]\n",
    "    data = data[~data[\"event\"].str.contains(\"U6\")]\n",
    "    data[\"date\"] = pd.to_datetime(data[\"date\"])\n",
    "    return data    "
   ]
  },
  {
   "cell_type": "code",
   "execution_count": 70,
   "id": "f14410b1-e5fb-4bb4-bfe4-be9c30fb7f16",
   "metadata": {},
   "outputs": [],
   "source": [
    "def get_gpr(start_date, end_date):\n",
    "    data = pd.read_excel(\"https://www.matteoiacoviello.com/gpr_files/data_gpr_daily_recent.xls\")\n",
    "    data = data[[\"GPRD\", \"date\"]]\n",
    "    start_date = pd.to_datetime(start_date)\n",
    "    end_date = pd.to_datetime(end_date)\n",
    "    data = data[(data[\"date\"] >= start_date) & (data[\"date\"] <= end_date)]\n",
    "    data[\"date\"] = pd.to_datetime(data[\"date\"])\n",
    "    return data"
   ]
  }
 ],
 "metadata": {
  "kernelspec": {
   "display_name": "Python 3 (ipykernel)",
   "language": "python",
   "name": "python3"
  },
  "language_info": {
   "codemirror_mode": {
    "name": "ipython",
    "version": 3
   },
   "file_extension": ".py",
   "mimetype": "text/x-python",
   "name": "python",
   "nbconvert_exporter": "python",
   "pygments_lexer": "ipython3",
   "version": "3.11.9"
  }
 },
 "nbformat": 4,
 "nbformat_minor": 5
}
